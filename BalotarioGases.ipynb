{
  "nbformat": 4,
  "nbformat_minor": 0,
  "metadata": {
    "colab": {
      "provenance": [],
      "include_colab_link": true
    },
    "kernelspec": {
      "name": "python3",
      "display_name": "Python 3"
    },
    "language_info": {
      "name": "python"
    }
  },
  "cells": [
    {
      "cell_type": "markdown",
      "metadata": {
        "id": "view-in-github",
        "colab_type": "text"
      },
      "source": [
        "<a href=\"https://colab.research.google.com/github/AXLCA031/Quimica_UNMSM/blob/main/BalotarioGases.ipynb\" target=\"_parent\"><img src=\"https://colab.research.google.com/assets/colab-badge.svg\" alt=\"Open In Colab\"/></a>"
      ]
    },
    {
      "cell_type": "code",
      "execution_count": null,
      "metadata": {
        "colab": {
          "base_uri": "https://localhost:8080/"
        },
        "id": "jkjt1lXYLU8c",
        "outputId": "1083210c-5eee-47dd-ce9f-d92f9c252b94"
      },
      "outputs": [
        {
          "output_type": "stream",
          "name": "stdout",
          "text": [
            "El volumen del gas seria: 16.4\n"
          ]
        }
      ],
      "source": [
        "#1.1. Calcula el volumen ocupado por 2 moles de gas a una presión de 3 atmósferas y una\n",
        "#temperatura de 300 K.\n",
        "\n",
        "n = 2\n",
        "P = 3\n",
        "T = 300\n",
        "R = 0.082\n",
        "\n",
        "def V_Gas(n,T,P):\n",
        "  V = round((n*R*T)/P, 3)\n",
        "  return V\n",
        "V = V_Gas(2,300,3)\n",
        "print(f\"El volumen del gas seria: {V}\")"
      ]
    },
    {
      "cell_type": "code",
      "source": [],
      "metadata": {
        "colab": {
          "base_uri": "https://localhost:8080/"
        },
        "id": "7K2ATEM-U8Q3",
        "outputId": "87c49019-0858-48b8-f77c-f9ae85b557fc"
      },
      "execution_count": null,
      "outputs": [
        {
          "output_type": "stream",
          "name": "stdout",
          "text": [
            "0.0001\n"
          ]
        }
      ]
    },
    {
      "cell_type": "code",
      "source": [
        "#1.3. Si 1 mol de un gas ideal ocupa 22.4 litros a 0°C y 1 atmósfera, ¿cuál es la constante R en\n",
        "#unidades de litros x atmósferas / (mol x Kelvin)?\n",
        "\n",
        "n = 1\n",
        "V = 22.4\n",
        "Tc = 0\n",
        "P = 1\n",
        "def C_a_K(Tc):\n",
        "  Tk = Tc + 273\n",
        "  return Tk\n",
        "\n",
        "Tk = C_a_K(0)\n",
        "\n",
        "def R_constante(P,V,T,n):\n",
        "  R =round((P*V)/(n*T),3)\n",
        "  return R\n",
        "  R = R_constante(P,V,Tk,n)\n",
        "\n",
        "print(f\"La constante de los gases ideales seria: {R}\")"
      ],
      "metadata": {
        "colab": {
          "base_uri": "https://localhost:8080/"
        },
        "id": "VSYk0rU0MIfC",
        "outputId": "0582a788-1e80-47f2-d454-c5fd5b11af93"
      },
      "execution_count": null,
      "outputs": [
        {
          "output_type": "stream",
          "name": "stdout",
          "text": [
            "La constante de los gases ideales seria: 0.082\n"
          ]
        }
      ]
    },
    {
      "cell_type": "code",
      "source": [
        "#3.1. Calcula la presión ejercida por 0.5 moles de gas en un recipiente de 10 litros a 25°C.\n",
        "\n",
        "n = 0.5\n",
        "V = 10\n",
        "Tc = 25\n",
        "R = 0.082\n",
        "Tk = C_a_K(25)\n",
        "\n",
        "def C_a_K(Tc):\n",
        "  Tk = Tc + 273\n",
        "  return Tk\n",
        "def P_formula(n,R,T,V):\n",
        "  P = round((n*R*T)/V,3)\n",
        "  return P\n",
        "Pf = P_formula(n,R,Tk,V)\n",
        "print(f\"La presion seria: {Pf} atm\")"
      ],
      "metadata": {
        "colab": {
          "base_uri": "https://localhost:8080/"
        },
        "id": "_H5El7uKMtna",
        "outputId": "e8598ebf-6882-4b18-874b-0cb91e612126"
      },
      "execution_count": null,
      "outputs": [
        {
          "output_type": "stream",
          "name": "stdout",
          "text": [
            "La presion seria: 1.222 atm\n"
          ]
        }
      ]
    },
    {
      "cell_type": "code",
      "source": [
        "#3.4. Si un gas ocupa 500 ml a una presión de 750 mmHg, ¿cuál es su volumen a 1 atmósfera?\n",
        "\n",
        "Vml = 500\n",
        "Pmmhg = 750\n",
        "Patm2 = 1\n",
        "def ml_a_l(Vml):\n",
        "  Vl = Vml/1000\n",
        "  return Vl\n",
        "\n",
        "def mmhg_a_atm(Pmmhg):\n",
        "  Patm = Pmmhg/760\n",
        "  return Patm\n",
        "\n",
        "Vl1 = ml_a_l(500)\n",
        "Patm1 = mmhg_a_atm(750)\n",
        "\n",
        "def ley(Vl1,Patm1,Patm2):\n",
        "  V = round(Vl1*Patm1/Patm2,3)\n",
        "  return V\n",
        "Vl2 = ley(Vl1,Patm1,Patm2)\n",
        "\n",
        "print(f\"El volumen a 1 atm seria: {Vl2} L\")"
      ],
      "metadata": {
        "colab": {
          "base_uri": "https://localhost:8080/"
        },
        "id": "1YD9yLbwOKOE",
        "outputId": "a780a5ed-7d90-438e-df1b-4f7d4a40ed44"
      },
      "execution_count": null,
      "outputs": [
        {
          "output_type": "stream",
          "name": "stdout",
          "text": [
            "El volumen a 1 atm seria: 0.493 L\n"
          ]
        }
      ]
    },
    {
      "cell_type": "code",
      "source": [
        "#5.1. Utiliza la ecuación de los gases ideales para calcular la presión de 2 moles de gas en un\n",
        "#recipiente de 5 litros a 25°C.\n",
        "\n",
        "n = 2\n",
        "V = 5\n",
        "Tc = 25\n",
        "R = 8.314\n",
        "\n",
        "def C_a_K(Tc):\n",
        "  Tk = Tc + 273\n",
        "  return Tk\n",
        "\n",
        "def P_formula(n,R,T,V):\n",
        "  P = (n*R*T)/V\n",
        "  return P\n",
        "\n",
        "P = P_formula(n,R,T,V)\n",
        "print(f\"La presion seria: {round(P/1000,3)} kPa\")"
      ],
      "metadata": {
        "colab": {
          "base_uri": "https://localhost:8080/"
        },
        "id": "HZM1Kx9OPEz8",
        "outputId": "2cb34d7d-e18e-4da9-8aa7-e111221630f5"
      },
      "execution_count": null,
      "outputs": [
        {
          "output_type": "stream",
          "name": "stdout",
          "text": [
            "La presion seria: 0.998 kPa\n"
          ]
        }
      ]
    },
    {
      "cell_type": "code",
      "source": [
        "#5.2. Si tienes un gas que ocupa 10 litros a 3 atmósferas de presión y 273 K de temperatura,\n",
        "#¿cuántos moles de gas tienes?\n",
        "\n",
        "V = 10\n",
        "P = 3\n",
        "T = 273\n",
        "R = 0.082\n",
        "\n",
        "def n_formula(P,V,R,T):\n",
        "   n = (P*V)/(R*T)\n",
        "   return n\n",
        "n = n_formula(P,V,R,T)\n",
        "\n",
        "print(f\"El numero de moles seria: {round(n,3)} mol\")"
      ],
      "metadata": {
        "colab": {
          "base_uri": "https://localhost:8080/"
        },
        "id": "hJKpWbjFP5fs",
        "outputId": "581cd823-62be-4008-f02f-f1d40b141581"
      },
      "execution_count": null,
      "outputs": [
        {
          "output_type": "stream",
          "name": "stdout",
          "text": [
            "El numero de moles seria: 1.34 mol\n"
          ]
        }
      ]
    },
    {
      "cell_type": "code",
      "source": [
        "#6.1. Un recipiente de 2 litros contiene 1 mol de gas a 300 K. Si la presión se duplica manteniendo\n",
        "#el volumen constante, ¿cuál será la nueva temperatura?\n",
        "\n",
        "V = 2\n",
        "n = 1\n",
        "T1 = 300\n",
        "R = 8.314\n",
        "\n",
        "def Gas_Formula(R,T,n,V):\n",
        "  P = (R*T*n)/V\n",
        "  return P\n",
        "\n",
        "P1 = Gas_Formula(R,T1,n,V)\n",
        "P2 = P1*2\n",
        "def ley(T1,P1,P2):\n",
        "  T2 = T1*P2/P1\n",
        "  return T2\n",
        "Tf = ley(T1,P1,P2)\n",
        "\n",
        "print(f\"La nueva temperatura seria: {Tf} K\")"
      ],
      "metadata": {
        "colab": {
          "base_uri": "https://localhost:8080/"
        },
        "id": "wM0B5TOEQW-1",
        "outputId": "b5952f18-2b90-409a-a639-cd04146d0d68"
      },
      "execution_count": null,
      "outputs": [
        {
          "output_type": "stream",
          "name": "stdout",
          "text": [
            "La nueva temperatura seria: 600.0 K\n"
          ]
        }
      ]
    },
    {
      "cell_type": "code",
      "source": [
        "#6.3. Si un recipiente de 4 litros contiene 3 moles de un gas a 400 K, ¿cuál será la presión si el\n",
        "#volumen se reduce a 2 litros a temperatura constante?\n",
        "\n",
        "V1 = 4\n",
        "n = 3\n",
        "T = 400\n",
        "V2 = 2\n",
        "R = 8.314\n",
        "\n",
        "def Gas_Formula(R,T,n,V):\n",
        "  P = (R*T*n)/V\n",
        "  return P\n",
        "P1 = Gas_Formula(R,T,n,V)\n",
        "\n",
        "P2 = P1*V1/V2\n",
        "\n",
        "print(f\"La nueva presion seria: {round(P2/1000,3)} kPa\")"
      ],
      "metadata": {
        "colab": {
          "base_uri": "https://localhost:8080/"
        },
        "id": "PU_xpRTTRQ2V",
        "outputId": "a8d7fd7c-23ba-4434-8da5-06377d910ed4"
      },
      "execution_count": null,
      "outputs": [
        {
          "output_type": "stream",
          "name": "stdout",
          "text": [
            "La nueva presion seria: 9.977 kPa\n"
          ]
        }
      ]
    },
    {
      "cell_type": "code",
      "source": [
        "#7.1. Un globo se llena con 2 moles de gas a 25 °C. Si el volumen inicial es de 5 litros, ¿cuál será el\n",
        "#volumen a 50 °C, manteniendo constante la presión?\n",
        "\n",
        "n = 2\n",
        "Tc1 = 25\n",
        "V1 = 5\n",
        "Tc2 = 50\n",
        "\n",
        "def C_a_K(Tc):\n",
        "  Tk = Tc + 273\n",
        "  return Tk\n",
        "Tk1 = C_a_K(Tc1)\n",
        "Tk2 = C_a_K(Tc2)\n",
        "\n",
        "V2 = V1*Tk2/Tk1\n",
        "\n",
        "print(f\"El volumen a 50°C seria: {round(V2,3)} L\")"
      ],
      "metadata": {
        "colab": {
          "base_uri": "https://localhost:8080/"
        },
        "id": "n1ynvkSITDNG",
        "outputId": "d3e1222e-80a1-4c6d-bf25-42a1786642ab"
      },
      "execution_count": null,
      "outputs": [
        {
          "output_type": "stream",
          "name": "stdout",
          "text": [
            "El volumen a 50°C seria: 5.419 L\n"
          ]
        }
      ]
    },
    {
      "cell_type": "code",
      "source": [
        "#7.2. Si un gas ocupa un volumen de 2 litros a 0 °C, ¿cuál será el volumen a 100 °C si la presión se\n",
        "#mantiene constante?\n",
        "\n",
        "V1 = 2\n",
        "Tc1 = 0\n",
        "Tc2= 100\n",
        "\n",
        "def C_a_K(Tc):\n",
        "  Tk = Tc + 273\n",
        "  return Tk\n",
        "Tk1 = C_a_K(Tc1)\n",
        "Tk2 = C_a_K(Tc2)\n",
        "V2 = V1*Tk2/Tk1\n",
        "\n",
        "print(f\"El volumen a 100°C seria: {round(V2,3)} L\")"
      ],
      "metadata": {
        "colab": {
          "base_uri": "https://localhost:8080/"
        },
        "id": "XKb11VXeT9d_",
        "outputId": "0e75c82d-145a-4cac-b872-b4236f4e6977"
      },
      "execution_count": null,
      "outputs": [
        {
          "output_type": "stream",
          "name": "stdout",
          "text": [
            "El volumen a 100°C seria: 2.733 L\n"
          ]
        }
      ]
    },
    {
      "cell_type": "markdown",
      "source": [
        "2.1 ¿Cuál es la principal característica que distingue a los gases de los líquidos y sólidos?\n",
        "\n",
        "Los gases tienen una densidad mucho menor que los líquidos y sólidos. Esto se\n",
        "debe a que las partículas de un gas están muy separadas entre sí, mientras que las partículas de un líquido o sólido están mucho más juntas."
      ],
      "metadata": {
        "id": "fdG1is4pb9it"
      }
    },
    {
      "cell_type": "markdown",
      "source": [
        "2.3. Si se duplica la temperatura de un gas ideal, ¿cómo afecta esto a su presión, suponiendo que\n",
        "el volumen y la cantidad de gas permanezcan constantes?\n",
        "\n",
        "La presión de un gas ideal es directamente proporcional a su temperatura absoluta, asumiendo que el volumen y la cantidad de gas permanecen constantes. Esto significa que si se duplica la temperatura de un gas ideal, su presión también se duplicará.\n",
        "\n",
        "Ecuación de los gases ideales:\n",
        "\n",
        "P = nRT/V\n"
      ],
      "metadata": {
        "id": "3UjHvdmUcGkU"
      }
    },
    {
      "cell_type": "markdown",
      "source": [
        "\n",
        "4.3. ¿Por qué la temperatura se relaciona con la velocidad promedio de las partículas en un gas\n",
        "ideal?\n",
        "\n",
        "A medida que aumenta la temperatura, las partículas del gas se mueven más rápido. Esto se debe a que las partículas del gas tienen más energía cinética. La energía cinética es la energía que tienen las partículas debido a su movimiento. A medida que las partículas se mueven más rápido, tienen más energía cinética.\n",
        "\n",
        "La velocidad promedio de las partículas en un gas ideal es una medida de la rapidez con la que se mueven las partículas. Es una medida importante del comportamiento de un gas ideal."
      ],
      "metadata": {
        "id": "yWlwB3E1cw9r"
      }
    },
    {
      "cell_type": "markdown",
      "source": [
        "4.5. Explica por qué la teoría cinético-molecular se aplica mejor a los gases ideales que a los gases\n",
        "reales.\n",
        "\n",
        "La teoría cinético-molecular se aplica mejor a los gases ideales que a los gases reales porque los gases reales no cumplen con todos los postulados de la teoría.\n",
        "\n",
        "Los postulados de la teoría cinético-molecular son:\n",
        "\n",
        "\n",
        "\n",
        "* Las partículas de un gas ideal son muy pequeñas en comparación con el volumen\n",
        "del recipiente que las contiene.\n",
        "* Las partículas de un gas ideal se mueven de forma aleatoria en todas las direcciones.\n",
        "* Las colisiones entre las partículas de un gas ideal son elásticas, lo que significa que no hay pérdida de energía.\n",
        "*  fuerzas de atracción entre las partículas de un gas ideal son despreciables.\n",
        "* Las fuerzas de atracción entre las partículas de un gas ideal son despreciables.\n",
        "\n",
        "Los gases reales no cumplen con todos estos postulados. Por ejemplo, las partículas de los gases reales tienen un tamaño finito, lo que significa que ocupan cierto volumen. Además, las partículas de los gases reales pueden experimentar fuerzas de atracción entre sí, lo que afecta su movimiento.\n"
      ],
      "metadata": {
        "id": "IHrOlB9tc2kj"
      }
    },
    {
      "cell_type": "code",
      "source": [
        "#8.1. Un gas ocupa 2 litros a una presión de 3 atmósferas. Si se comprime a 1 litro, ¿cuál será la nueva presión a temperatura constante?\n",
        "\n",
        "V1 = 2 #Litros\n",
        "P1 = 3 #atm\n",
        "V2 = 1 #Litros\n",
        "\n",
        "def ley(V1,P1,V2):\n",
        "  P2 = P1 * V1 / V2\n",
        "  return P2\n",
        "\n",
        "P2 = ley(V1,P1,V2)\n",
        "\n",
        "print(f\"La nueva presión sería: {P2} atm\")"
      ],
      "metadata": {
        "colab": {
          "base_uri": "https://localhost:8080/"
        },
        "id": "lGqjUQ6ppUQr",
        "outputId": "a970db02-6601-41dc-d7b4-c9a257721ffe"
      },
      "execution_count": 3,
      "outputs": [
        {
          "output_type": "stream",
          "name": "stdout",
          "text": [
            "La nueva presión sería: 6.0 atm\n"
          ]
        }
      ]
    },
    {
      "cell_type": "code",
      "source": [
        "#8.2. Si un gas a 2 atmósferas de presión ocupa un volumen de 10 litros, ¿cuál sería el nuevo volumen si la presión se duplica?\n",
        "\n",
        "P1 = 2 #atm\n",
        "V1 = 10 #litros\n",
        "V2 = 2 * V1\n",
        "\n",
        "def ley(V1,P1,V2):\n",
        "  P2 = P1 * V1 / V2\n",
        "  return P2\n",
        "\n",
        "P2 = ley(V1,P1,V2)\n",
        "\n",
        "print(f\"La nueva presión sería: {P2} atm\")"
      ],
      "metadata": {
        "colab": {
          "base_uri": "https://localhost:8080/"
        },
        "id": "KQmOI557qEsF",
        "outputId": "79de8260-9b24-4f18-902e-c35d2e331799"
      },
      "execution_count": 4,
      "outputs": [
        {
          "output_type": "stream",
          "name": "stdout",
          "text": [
            "La nueva presión sería: 1.0 atm\n"
          ]
        }
      ]
    },
    {
      "cell_type": "code",
      "source": [
        "#9.1. Un recipiente contiene oxígeno (O2) y nitrógeno (N2) a una presión total de 3 atmósferas. Si la presión parcial de O2 es de 1 atmósfera, ¿cuál es la presión parcial de N2?\n",
        "\n",
        "Pt = 3\n",
        "PpO2 = 1\n",
        "\n",
        "def ley(Pt,P1):\n",
        "  Pp = Pt - P1\n",
        "  return Pp\n",
        "\n",
        "PpN2 = ley(Pt,PpO2)\n",
        "\n",
        "print(f\"La presión parcial del N2 es: {PpN2} atm\")"
      ],
      "metadata": {
        "colab": {
          "base_uri": "https://localhost:8080/"
        },
        "id": "lg-FZnr3qkio",
        "outputId": "2e25c9c6-9e21-4c8c-9b9e-c7fba91144ba"
      },
      "execution_count": 5,
      "outputs": [
        {
          "output_type": "stream",
          "name": "stdout",
          "text": [
            "La presión parcial de N2 es: 2 atm\n"
          ]
        }
      ]
    },
    {
      "cell_type": "code",
      "source": [
        "#9.3. Un tanque contiene helio (He) y argón (Ar) a una presión total de 5 atmósferas. Si la presión parcial de He es de 3 atmósferas, ¿cuál es la presión parcial de Ar?\n",
        "\n",
        "PpHe = 3\n",
        "Pt = 5\n",
        "\n",
        "def ley(Pt,P1):\n",
        "  Pp = Pt - P1\n",
        "  return Pp\n",
        "\n",
        "PpAr = ley(Pt,PpHe)\n",
        "print(f\"La presión parcial del N2 es: {PpAr} atm\")"
      ],
      "metadata": {
        "colab": {
          "base_uri": "https://localhost:8080/"
        },
        "id": "laCshGENrav8",
        "outputId": "6c86f831-e191-4f04-ef1a-18efb7b67cd6"
      },
      "execution_count": 6,
      "outputs": [
        {
          "output_type": "stream",
          "name": "stdout",
          "text": [
            "La presión parcial del N2 es: 2 atm\n"
          ]
        }
      ]
    },
    {
      "cell_type": "code",
      "source": [
        "#10.1. Si 2 moles de un gas real ocupan 3 litros a 300 K y 2 atmósferas de presión, ¿cuál es el factor de compresibilidad (Z) del gas?\n",
        "\n",
        "n = 2\n",
        "V = 3\n",
        "T = 300\n",
        "R = 0.082\n",
        "P = 2\n",
        "def factorZ(P,V,R, T,n):\n",
        "  Z =round((R * T * n) / (P * V), 3)\n",
        "  return Z\n",
        "\n",
        "Z = factorZ(P,V,R, T,n)\n",
        "\n",
        "print(f\"El factor de compresión es: {Z}\")"
      ],
      "metadata": {
        "colab": {
          "base_uri": "https://localhost:8080/"
        },
        "id": "1ar1Ykkwrysh",
        "outputId": "b61ff333-9afe-4909-af31-6ea418a9b2c8"
      },
      "execution_count": 9,
      "outputs": [
        {
          "output_type": "stream",
          "name": "stdout",
          "text": [
            "El factor de compresión es: 8.2\n"
          ]
        }
      ]
    },
    {
      "cell_type": "code",
      "source": [
        "#10.2. Un gas real se encuentra en un recipiente de 5 litros a 350 K y 4 atmósferas de presión. Calcular el factor de compresibilidad (Z) del gas en estas condiciones.\n",
        "\n",
        "n = 1\n",
        "V = 5\n",
        "T = 360\n",
        "R = 0.082\n",
        "P = 4\n",
        "def factorZ(P,V,R, T,n):\n",
        "  Z =round((R * T * n) / (P * V), 3)\n",
        "  return Z\n",
        "\n",
        "Z = factorZ(P,V,R, T,n)\n",
        "\n",
        "print(f\"El factor de compresión es: {Z}\")"
      ],
      "metadata": {
        "colab": {
          "base_uri": "https://localhost:8080/"
        },
        "id": "QGJrmh7Sry9g",
        "outputId": "f53daae7-162c-4a96-b3c0-4f2eba4b29c7"
      },
      "execution_count": 10,
      "outputs": [
        {
          "output_type": "stream",
          "name": "stdout",
          "text": [
            "El factor de compresión es: 1.476\n"
          ]
        }
      ]
    }
  ]
}