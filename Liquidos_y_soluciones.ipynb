{
  "nbformat": 4,
  "nbformat_minor": 0,
  "metadata": {
    "colab": {
      "provenance": [],
      "include_colab_link": true
    },
    "kernelspec": {
      "name": "python3",
      "display_name": "Python 3"
    },
    "language_info": {
      "name": "python"
    }
  },
  "cells": [
    {
      "cell_type": "markdown",
      "metadata": {
        "id": "view-in-github",
        "colab_type": "text"
      },
      "source": [
        "<a href=\"https://colab.research.google.com/github/AXLCA031/Quimica_UNMSM/blob/main/Liquidos_y_soluciones.ipynb\" target=\"_parent\"><img src=\"https://colab.research.google.com/assets/colab-badge.svg\" alt=\"Open In Colab\"/></a>"
      ]
    },
    {
      "cell_type": "markdown",
      "source": [
        "#**LÍQUIDOS Y SOLUCIONES**\n"
      ],
      "metadata": {
        "id": "k9frvbPNkoWK"
      }
    },
    {
      "cell_type": "markdown",
      "source": [
        "\n",
        "\n",
        "---\n",
        "\n"
      ],
      "metadata": {
        "id": "uqtGq3yL6zfE"
      }
    },
    {
      "cell_type": "markdown",
      "source": [
        "\n",
        "***Alumno:*** Marco Renato Castilla Huanca\n",
        "\n",
        "***Código de estudiante:*** 23200087\n",
        "\n",
        "***Profesor:*** Jesús Alvarado Huayhuaz"
      ],
      "metadata": {
        "id": "MTnwvI7rkuLC"
      }
    },
    {
      "cell_type": "markdown",
      "source": [
        "##**Fuerzas intermoleculares**"
      ],
      "metadata": {
        "id": "zScOszdbnlEf"
      }
    },
    {
      "cell_type": "markdown",
      "source": [
        "**11.1 Proponga un ejemplo para cada tipo de fuerzas intermolecular: a) interacción dipolo-dipolo, b) interacción dipolo-dipolo inducido, c) interacción ion-dipolo, d) fuerzas de dispersión, e) fuerzas de van der Waals.**"
      ],
      "metadata": {
        "id": "wm1Y5WLjnkqF"
      }
    },
    {
      "cell_type": "markdown",
      "source": [
        "\n",
        "\n",
        "a) Interacción dipolo-dipolo: Cuando las moléculas de agua (H2O) se acercan, se atraen por las cargas parciales opuestas de los átomos de oxígeno e hidrógeno. Esto se debe a que los enlaces O-H son polares y forman dipolos eléctricos.\n",
        "\n",
        "b) Interacción dipolo-dipolo inducido: En el dióxido de carbono (CO2), las moléculas no tienen polaridad permanente, pero pueden adquirir una polaridad temporal cuando se encuentran con una molécula polar. Esto crea una interacción dipolo-dipolo inducida entre las moléculas de CO2.\n",
        "\n",
        "c) Interacción ion-dipolo: Un ion positivo (como Na+) se siente atraído por el extremo negativo de una molécula polar (como H2O). Esto genera una interacción ion-dipolo entre el ion y la molécula.\n",
        "\n",
        "d) Fuerzas de dispersión (fuerzas de London): En el nitrógeno (N2), las moléculas no tienen ni polaridad ni iones, pero pueden tener fluctuaciones momentáneas de la densidad electrónica. Esto produce fuerzas de dispersión, que son las únicas fuerzas intermoleculares en el N2.\n",
        "\n",
        "e) Fuerzas de van der Waals: Este es un nombre colectivo para todas las fuerzas intermoleculares que dependen de la distribución de los electrones y las cargas. Incluye las fuerzas dipolo-dipolo, dipolo-dipolo inducido e ion-dipolo. Las fuerzas de van der Waals son responsables de la cohesión de las moléculas en estados sólido y líquido.\n"
      ],
      "metadata": {
        "id": "2r4WU4nio7KR"
      }
    },
    {
      "cell_type": "markdown",
      "source": [
        "**11.2 Explique el término “polarizabilidad”. ¿Qué clase de moléculas tienden a ser muy polarizables? ¿Qué relación existe entre la polarizabilidad y las fuerzas intermoleculares?**"
      ],
      "metadata": {
        "id": "ffgwbVz3q6_A"
      }
    },
    {
      "cell_type": "markdown",
      "source": [
        "La polarizabilidad es la propiedad de una molécula de cambiar su forma o su distribución de carga al estar expuesta a un campo eléctrico externo. Las moléculas que tienen enlaces flojos y electrones libres, como las moléculas grandes que tienen átomos pesados, suelen ser muy polarizables. La polarizabilidad influye en las fuerzas intermoleculares, ya que las moléculas polarizables pueden adaptarse mejor a la presencia de otros dipolos eléctricos."
      ],
      "metadata": {
        "id": "FMBx4RuUq62K"
      }
    },
    {
      "cell_type": "markdown",
      "source": [
        "**11.3 Explique la diferencia entre un momento dipolar temporal y un momento dipolar permanente.**"
      ],
      "metadata": {
        "id": "tGZDuMpxrJdI"
      }
    },
    {
      "cell_type": "markdown",
      "source": [
        "\n",
        "\n",
        "Un \"momento dipolar transitorio\" es un momento dipolar que varía con el tiempo. Esto sucede en sistemas que están en movimiento o en transición. Por ejemplo, por su movimiento vibratorio y rotatorio, las moléculas en un líquido pueden tener momentos dipolares transitorios.\n",
        "\n",
        "El momento dipolar fijo es un momento dipolar que no cambia en una molécula o sistema. Esto se da cuando la distribución de cargas dentro de una molécula es asimetría fija. Por ejemplo, por la disposición angular de los átomos de oxígeno e hidrógeno, las moléculas de agua tienen un momento dipolar fijo.\n",
        "\n",
        "Es decir, el momento dipolar fijo es invariable y depende de la estructura molecular, mientras que el momento dipolar transitorio es variable y depende del tiempo."
      ],
      "metadata": {
        "id": "FKUzonq7rMCX"
      }
    },
    {
      "cell_type": "markdown",
      "source": [
        "**11.5 ¿Qué propiedades físicas se deberían considerar al comparar la intensidad de las fuerzas intermoleculares en los sólidos y los líquidos?**"
      ],
      "metadata": {
        "id": "DWvbczJet9BP"
      }
    },
    {
      "cell_type": "markdown",
      "source": [
        "\n",
        "\n",
        "- Punto de fusión y ebullición: Los sólidos tienen puntos de fusión más altos que los líquidos porque sus partículas están más unidas por las fuerzas intermoleculares en una estructura ordenada. Los líquidos tienen puntos de ebullición más bajos porque sus partículas están menos unidas por las fuerzas intermoleculares.\n",
        "\n",
        "- Densidad: Los sólidos suelen ser más densos que los líquidos porque sus partículas están más cerca en su estructura. Las fuerzas intermoleculares afectan a cómo se aprietan y ordenan las partículas.\n",
        "\n",
        "- La solubilidad de una sustancia en un solvente depende de las fuerzas intermoleculares. Los sólidos que tienen fuerzas intermoleculares fuertes pueden ser menos solubles en líquidos que tienen fuerzas intermoleculares parecidas.\n",
        "\n",
        "- Viscosidad: La viscosidad de un líquido está determinada por las fuerzas intermoleculares que tiene. Líquidos con fuerzas más fuertes suelen ser más viscosos."
      ],
      "metadata": {
        "id": "-btA4qX6t98r"
      }
    },
    {
      "cell_type": "markdown",
      "source": [
        "**11.8 Si viviera en Alaska, ¿cuál de los siguientes gases naturales almacenaría en un tanque a la intemperie durante el invierno: metano (CH4), propano (C3H8) o butano (C4H10)? Justifique su respuesta**"
      ],
      "metadata": {
        "id": "0UXN7U6t6sgM"
      }
    },
    {
      "cell_type": "markdown",
      "source": [
        "\n",
        "El propano (C3H8) es el gas natural que elegiría para guardar en un tanque al exterior en Alaska en invierno.\n",
        "\n",
        "La masa molar del propano es más alta que la del metano y el butano, lo que significa que sus moléculas son más pesadas y se atraen más entre sí.\n",
        "\n",
        "Por su mayor tamaño y forma, las moléculas de propano tienen fuerzas de Van der Waals más fuertes que las del metano y el butano.\n",
        "\n",
        "La volatilidad de los gases depende de las fuerzas intermoleculares a temperaturas más bajas. El propano es menos propenso a evaporarse rápidamente en condiciones frías porque tiene una volatilidad más baja que el metano y el butano.\n",
        "\n",
        "Así, el propano es la mejor opción para guardar en un tanque al exterior en invierno en Alaska por su menor tendencia a evaporarse y su mayor estabilidad."
      ],
      "metadata": {
        "id": "IVcDCSRr6tqt"
      }
    },
    {
      "cell_type": "markdown",
      "source": [
        "##**Propiedades de los líquidos**"
      ],
      "metadata": {
        "id": "l_-MigUS-49C"
      }
    },
    {
      "cell_type": "markdown",
      "source": [
        "**11.21 ¿Por qué los líquidos, a diferencia de los gases, son prácticamente incompresibles?**"
      ],
      "metadata": {
        "id": "juEHH3f2-4yM"
      }
    },
    {
      "cell_type": "markdown",
      "source": [
        "\n",
        "Los líquidos son casi imposibles de comprimir en comparación con los gases debido a sus características moleculares y estructurales. Estas son las razones:\n",
        "\n",
        "1. Distancia entre moléculas: Las moléculas en líquidos están más juntas que las de los gases. La compresión de líquidos es más complicada por la menor distancia intermolecular.\n",
        "\n",
        "2. Fuerzas intermoleculares: Los líquidos tienen fuerzas intermoleculares más intensas que los gases. Las fuerzas como los enlaces de hidrógeno o las fuerzas de Van der Waals unen las moléculas y dificultan la compresión.\n",
        "\n",
        "3. Estructura ordenada: Los líquidos tienen una estructura más organizada que los gases. La incompresibilidad de un líquido se debe a la disposición de sus moléculas en una red tridimensional.\n",
        "\n",
        "4. Densidad constante: La densidad de un líquido no varía mucho al comprimirse.\n",
        "\n"
      ],
      "metadata": {
        "id": "XBp0hI9U-620"
      }
    },
    {
      "cell_type": "markdown",
      "source": [
        "**11.22 ¿Qué es la tensión superficial? ¿Qué relación existe entre esta propiedad y las fuerzas intermoleculares? ¿Cómo cambia la tensión superficial con la temperatura?**"
      ],
      "metadata": {
        "id": "8py1w2sfA0JE"
      }
    },
    {
      "cell_type": "markdown",
      "source": [
        "\n",
        "La tensión superficial es la fuerza que se ejerce en la superficie de un líquido por las fuerzas intermoleculares entre las moléculas que están en la superficie. Esta fuerza hace que la superficie se contraiga, lo que le da al líquido un aspecto de \"tensión\" o \"elasticidad\".\n",
        "\n",
        "La tensión superficial depende directamente de las fuerzas intermoleculares.\n",
        "En los líquidos, las moléculas del interior están rodeadas por otras moléculas por todos lados, lo que genera una fuerza neta hacia el interior.\n",
        "Esta tensión superficial se debe a fuerzas intermoleculares como los enlaces de hidrógeno y las fuerzas de Van der Waals.\n",
        "\n",
        "La tensión superficial se reduce con la temperatura.\n",
        "Las moléculas tienen más energía cinética y pueden vencer más fácilmente las fuerzas intermoleculares en la superficie a temperaturas más elevadas."
      ],
      "metadata": {
        "id": "7lsRVKWnA12i"
      }
    },
    {
      "cell_type": "markdown",
      "source": [
        "**11.23 A pesar de que el acero inoxidable es mucho más denso que el agua, una navaja de afeitar de acero inoxidable puede flotar en el agua. ¿Por qué?**"
      ],
      "metadata": {
        "id": "EMOEsQTdGf4T"
      }
    },
    {
      "cell_type": "markdown",
      "source": [
        "\n",
        "Un objeto se pone en el agua y su peso se reparte sobre la superficie del líquido. El objeto puede flotar si es bastante liviano y su forma facilita una distribución balanceada de esta fuerza. La forma plana y el peso poco elevado de una cuchilla de afeitar hacen que la tensión superficial del agua la mantenga."
      ],
      "metadata": {
        "id": "lLz8mCr8GfiI"
      }
    },
    {
      "cell_type": "markdown",
      "source": [
        "**11.24 Utilice el agua y el mercurio como ejemplos para explicar la adhesión y la cohesión.**"
      ],
      "metadata": {
        "id": "2lHKN1YZKOAV"
      }
    },
    {
      "cell_type": "markdown",
      "source": [
        "\n",
        "El agua es una molécula polar con cargas eléctricas desbalanceadas. Establece enlaces de hidrógeno con otras moléculas polares, como las del vidrio. Su fuerte adhesión al vidrio hace que se adhiera a las paredes de un tubo o recipiente. Además, tiene una fuerte cohesión con otras moléculas de agua por los numerosos enlaces de hidrógeno que puede formar, lo que le da propiedades como la tensión superficial, la capilaridad y el menisco cóncavo.\n",
        "\n",
        "El mercurio es una molécula no polar con cargas eléctricas equilibradas. Esto le impide hacer enlaces de hidrógeno con otras moléculas, y solo se une por fuerzas débiles de Van der Waals. Tiene poca adhesión con el vidrio, lo que hace que se aleje de las paredes de un tubo o recipiente. Además, su poca cohesión con otras moléculas de mercurio, por la baja intensidad de las fuerzas de Van der Waals, le da propiedades como la baja tensión superficial, la imposibilidad de subir por capilaridad y el menisco convexo.\n"
      ],
      "metadata": {
        "id": "IVXAaI_IGfMc"
      }
    },
    {
      "cell_type": "markdown",
      "source": [
        "**12.3 Describa brevemente el proceso de disolución a nivel molecular. Utilice como ejemplo la disolución de un sólido en un líquido.**"
      ],
      "metadata": {
        "id": "zUjk4DY_Npph"
      }
    },
    {
      "cell_type": "markdown",
      "source": [
        "La disolución de un soluto en un solvente implica tres procesos principales:\n",
        "\n",
        "1. **Separación de moléculas**: Las fuerzas que mantienen juntas las partículas del soluto y del solvente se rompen, lo que consume energía y es un proceso endotérmico.\n",
        "\n",
        "2. **Dispersión de moléculas**: Las partículas del soluto se esparcen a través del solvente, creando una mezcla uniforme. Este proceso puede liberar o absorber energía dependiendo de si las nuevas interacciones entre soluto y solvente son más fuertes o más débiles que las interacciones originales dentro del soluto y el solvente.\n",
        "\n",
        "3. **Establecimiento del equilibrio**: Se alcanza un estado donde la tasa de disolución del soluto en el solvente se equilibra con la tasa a la que se recristaliza o sale del solvente, manteniendo una concentración constante del soluto en la solución, conocida como saturación.\n",
        "\n",
        "Tomando como ejemplo la disolución de la sal (NaCl) en agua (H2O), las moléculas polares de agua pueden interactuar con los iones Na+ y Cl- de la sal, separándolos y dispersándolos en la solución. Dado que estas interacciones son más fuertes que las existentes entre los iones de sal o entre las moléculas de agua, el proceso libera energía y es exotérmico. La disolución continúa hasta que se logra un equilibrio y la solución se satura."
      ],
      "metadata": {
        "id": "B1SdbOzaNm0-"
      }
    },
    {
      "cell_type": "markdown",
      "source": [
        "**12.4 A partir de las fuerzas intermoleculares, explique el significado de “lo semejante disuelve lo semejante”.**"
      ],
      "metadata": {
        "id": "CZJ_JHwUU8tV"
      }
    },
    {
      "cell_type": "markdown",
      "source": [
        "\n",
        "\"Lo semejante disuelve lo semejante\" significa que sustancias con fuerzas intermoleculares parecidas se disuelven entre sí, mientras que sustancias con fuerzas distintas no se disuelven. El agua es una molécula polar con cargas eléctricas desbalanceadas, lo que le permite hacer enlaces de hidrógeno con otros polares. El etanol es una molécula polar con un grupo hidroxilo (-OH) que puede hacer enlaces de hidrógeno con otros polares. El aceite es una molécula no polar con cargas eléctricas equilibradas, lo que le impide hacer enlaces de hidrógeno con otras moléculas."
      ],
      "metadata": {
        "id": "iP9hbJjPU_es"
      }
    },
    {
      "cell_type": "markdown",
      "source": [
        "**12.9 ¿Por qué el naftaleno (C10H8) es más soluble en benceno que el CsF?**\n",
        "\n"
      ],
      "metadata": {
        "id": "blY5wevFC3BY"
      }
    },
    {
      "cell_type": "markdown",
      "source": [
        "\n",
        "\n",
        "El **naftaleno** (C10H8) se disuelve más en **benceno** (C6H6) por las siguientes razones:\n",
        "\n",
        "1. **Estructura molecular**: El naftaleno y el benceno tienen estructuras moleculares parecidas. Los dos son hidrocarburos aromáticos con anillos de carbono conectados por enlaces π. La semejanza en la estructura facilita la disolución.\n",
        "\n",
        "2. **Fuerzas intermoleculares**: Las fuerzas de **dispersión de London** (fuerzas de Van der Waals) son las principales causantes de la disolución. En el benceno, estas fuerzas son más intensas por su mayor tamaño y mayor número de electrones π en su anillo. Por eso, el naftaleno se disuelve mejor en el benceno.\n",
        "\n",
        "3. **Tamaño y forma**: El naftaleno es más grande que el benceno por su estructura bicíclica. La mayor superficie del naftaleno permite una mayor interacción con las moléculas de benceno, lo que incrementa su disolución.\n",
        "\n",
        "En conclusión, la semejanza estructural y las fuerzas intermoleculares favorecen la disolución del naftaleno en el benceno."
      ],
      "metadata": {
        "id": "Ftj9KH-0C2nS"
      }
    },
    {
      "cell_type": "markdown",
      "source": [
        "**12.10 Explique por qué el etano (C2H5OH) no es soluble en ciclohexano (C6H12).**"
      ],
      "metadata": {
        "id": "-5WvGGz8YgmZ"
      }
    },
    {
      "cell_type": "markdown",
      "source": [
        "\n",
        "\n",
        "El etanol (C2H5OH) es una molécula polar, porque tiene un grupo hidroxilo (-OH) que forma enlaces de hidrógeno con otras moléculas polares, como el agua. El ciclohexano (C6H12) es una molécula no polar, porque tiene solo átomos de carbono e hidrógeno unidos por enlaces covalentes simples. Estos átomos tienen una electronegatividad similar, lo que significa que comparten los electrones de manera equitativa.\n",
        "\n",
        "La regla general para la solubilidad es que “lo semejante disuelve a lo semejante”, es decir, que las moléculas polares se disuelven en solventes polares y las moléculas no polares se disuelven en solventes no polares. Por lo tanto, el etanol no es soluble en ciclohexano, porque son moléculas de diferente polaridad y no pueden interactuar entre sí."
      ],
      "metadata": {
        "id": "EuQ5jFG6YdSd"
      }
    },
    {
      "cell_type": "markdown",
      "source": [
        "##**Unidades de concentración**"
      ],
      "metadata": {
        "id": "SsuhQaJabYz5"
      }
    },
    {
      "cell_type": "markdown",
      "source": [
        "**12.13 Defina los siguientes términos de concentración y especifique sus unidades: “porcentaje en masa”, “fracción molar”, “molaridad” y “molalidad”. Compare sus ventajas y sus desventajas.**"
      ],
      "metadata": {
        "id": "W4R3pLN42016"
      }
    },
    {
      "cell_type": "markdown",
      "source": [
        "\n",
        "\n",
        "- El porcentaje en masa es la relación de la masa de un soluto en la masa de la disolución, multiplicado por 100%. Se expresa como gramos de soluto por cada 100 gramos de disolución. Una ventaja de esta unidad es que es fácil de medir y no depende de la temperatura. Una desventaja es que no indica la cantidad de sustancia en términos de moles, que es más útil para las reacciones químicas.\n",
        "\n",
        "- La fracción molar es el número de moles de un componente en relación con el número total de moles que componen la disolución. Se expresa como una fracción adimensional. Una ventaja de esta unidad es que se puede usar para calcular las propiedades coligativas de las disoluciones, como la presión de vapor, el punto de ebullición y el punto de congelación. Una desventaja es que requiere conocer el número de moles de cada componente, lo que puede ser difícil de medir.\n",
        "\n",
        "- La molaridad es el número de moles de soluto por litro de solución. Se expresa como moles por litro (mol/L) o molar (M). Una ventaja de esta unidad es que se relaciona directamente con las ecuaciones estequiométricas y las constantes de equilibrio. Una desventaja es que depende del volumen de la solución, que puede variar con la temperatura y la presión.\n",
        "\n",
        "- La molalidad es el número de moles de soluto por kilogramo de solvente. Se expresa como moles por kilogramo (mol/kg) o molal (m). Una ventaja de esta unidad es que no depende del volumen ni de la temperatura, sino solo de la masa del solvente. Una desventaja es que puede ser difícil determinar la masa exacta del solvente, especialmente si se trata de un líquido volátil o impuro."
      ],
      "metadata": {
        "id": "c5IthSmi2KCM"
      }
    },
    {
      "cell_type": "markdown",
      "source": [
        "**12.15 Calcule el porcentaje en masa de soluto en cada una de las siguientes disoluciones acuosas:**\n",
        "- **a) 5,50 g de NaBr en 78,2 g de disolución**\n",
        "- **b) 31,0 g de KCl en 152,9 g de agua**\n",
        "- **c) 4,5 g de tolueno en 29 g de benceno.**"
      ],
      "metadata": {
        "id": "qhQR_Rvabaz8"
      }
    },
    {
      "cell_type": "code",
      "source": [
        "def porcentaje_en_masa(sto, sol):\n",
        "  return round((sto/sol)*100,2)\n",
        "\n",
        "print(\"a) \", porcentaje_en_masa(5.50, 78.2), \"%\")\n",
        "print(\"b) \", porcentaje_en_masa(31, 31.0 + 152), \"%\")\n",
        "print(\"c) \", porcentaje_en_masa(4.5, 4.5 + 29), \"%\")\n"
      ],
      "metadata": {
        "colab": {
          "base_uri": "https://localhost:8080/"
        },
        "id": "FtMjA7MRbkeF",
        "outputId": "f0380007-8479-46d6-8503-e414d5629518"
      },
      "execution_count": 2,
      "outputs": [
        {
          "output_type": "stream",
          "name": "stdout",
          "text": [
            "a)  7.03 %\n",
            "b)  16.94 %\n",
            "c)  13.43 %\n"
          ]
        }
      ]
    },
    {
      "cell_type": "markdown",
      "source": [
        "**12.16 Calcule la cantidad de agua (en gramos) que se debe agregar a:**\n",
        "- **a)5,00 g de urea (NH2)2CO para preparar una disolución al 16.2% en masa**  \n",
        "- **b)26.2 g de MgCl2 para preparar una disolución al 1.5% en masa.**"
      ],
      "metadata": {
        "id": "QiEJfQEigAnK"
      }
    },
    {
      "cell_type": "code",
      "source": [
        "def calcular_volumen(sto, porc):\n",
        "  return round((sto/porc)-sto,2)\n",
        "\n",
        "print(\"a) \", calcular_volumen(5, 0.162), \"ml\")\n",
        "print(\"b) \", calcular_volumen(26.2, 0.015), \"ml\")\n"
      ],
      "metadata": {
        "colab": {
          "base_uri": "https://localhost:8080/"
        },
        "id": "YDb0P03hgBpg",
        "outputId": "e7ddd848-1cd0-4a9c-ef81-2cb695e8afd9"
      },
      "execution_count": 3,
      "outputs": [
        {
          "output_type": "stream",
          "name": "stdout",
          "text": [
            "a)  25.86 ml\n",
            "b)  1720.47 ml\n"
          ]
        }
      ]
    },
    {
      "cell_type": "markdown",
      "source": [
        "**12.17 Calcula la molalidad de cada una de las siguientes disoluciones:**\n",
        "- **a) 14.3 g de sacarosa (C12H22O11) en 676 g de agua**\n",
        "- **b) 7.20 moles de etilenglicol (C2H6O2) en 3546 g de agua.**\n"
      ],
      "metadata": {
        "id": "Wsd-CkDFiczL"
      }
    },
    {
      "cell_type": "code",
      "source": [
        "def calcular_molalidad(n_sto, m_ste):\n",
        "  return round((n_sto/m_ste),2)\n",
        "\n",
        "print(\"a)La molalidad es \", calcular_molalidad(14.3 / (12*12 + 22*1 + 11*16), 0.676))\n",
        "print(\"b)La molalidad es \", calcular_molalidad(7.2, 3.546))\n"
      ],
      "metadata": {
        "colab": {
          "base_uri": "https://localhost:8080/"
        },
        "id": "WIBACOvkifXQ",
        "outputId": "9f8de442-65ed-44c5-f7c5-50411961ca28"
      },
      "execution_count": 4,
      "outputs": [
        {
          "output_type": "stream",
          "name": "stdout",
          "text": [
            "a)La molalidad es  0.06\n",
            "b)La molalidad es  2.03\n"
          ]
        }
      ]
    },
    {
      "cell_type": "markdown",
      "source": [
        "**12.18 Calcule la disolución de:**\n",
        "- **a)NaCl en 2.50 M (densidad de la disolución = 1.08 g/mL)**\n",
        "- **b) disolución de KBr al 48.2% en masa**\n"
      ],
      "metadata": {
        "id": "6Ioojmc2kJHc"
      }
    },
    {
      "cell_type": "code",
      "source": [
        "def calcular_molalidad(m_sto, m_sol, m_stoico):\n",
        "  n_sto = m_sto / m_stoico\n",
        "  m_ste = (m_sol - m_sto) / 1000\n",
        "  return round(n_sto / m_ste, 2)\n",
        "\n",
        "print(\"a)La molalidad es \", calcular_molalidad(2.5 * 1, 1.08 * 1000, 58.44))\n",
        "print(\"b)La molalidad es \", calcular_molalidad(100 * 0.482, 100, 119.002))\n"
      ],
      "metadata": {
        "colab": {
          "base_uri": "https://localhost:8080/"
        },
        "id": "WwQ9fh-zkKDp",
        "outputId": "36623bff-aee4-414c-fde0-705f00a74d5d"
      },
      "execution_count": 5,
      "outputs": [
        {
          "output_type": "stream",
          "name": "stdout",
          "text": [
            "a)La molalidad es  0.04\n",
            "b)La molalidad es  7.82\n"
          ]
        }
      ]
    },
    {
      "cell_type": "markdown",
      "source": [
        "**12.19 Calcule la molalidad de cada una de las siguientes disoluciones:**\n",
        "- **a) disolución de azúcar (C12H22O11) 1.22 M (densidad de la disolución = 1.12 g/mL)**\n",
        "- **b) disolución de NaOH 0.87 M (densidad de la disolución = 1.04 g/mL).**\n",
        "- **c) disolución de NaHCO3 5.24 M (densidad de la disolución = 1.19 g/mL).**"
      ],
      "metadata": {
        "id": "MxdnwwAwy1x5"
      }
    },
    {
      "cell_type": "code",
      "source": [
        "def molalidad(m_sust, n_sust, d_sol):\n",
        "  m_sol = d_sol * 1000\n",
        "  m_ste = (m_sol - n_sust * m_sust) / 1000\n",
        "  return n_sust / m_ste\n",
        "\n",
        "\n",
        "datos = [\n",
        "  (\"CHO\", 342.2965, 1.22, 1.12, \"a\"),\n",
        "  (\"NaOH\", 39.99711, 0.87, 1.04, \"b\"),\n",
        "  (\"NaHCO\", 84.0066, 5.24, 1.19, \"c\")\n",
        "]\n",
        "\n",
        "# Iterar sobre los datos e imprimir los resultados\n",
        "for sust, m_sust, n_sust, d_sol, letra in datos:\n",
        "  m = molalidad(m_sust, n_sust, d_sol)\n",
        "  m = round(m, 2)\n",
        "  print(f\"{letra})La molalidad de {sust} es {m}\")\n"
      ],
      "metadata": {
        "colab": {
          "base_uri": "https://localhost:8080/"
        },
        "id": "5cC0rwzoy3DN",
        "outputId": "51a487fc-7dd2-4b7b-c406-f7e99fa59ab9"
      },
      "execution_count": 6,
      "outputs": [
        {
          "output_type": "stream",
          "name": "stdout",
          "text": [
            "a)La molalidad de CHO es 1.74\n",
            "b)La molalidad de NaOH es 0.87\n",
            "c)La molalidad de NaHCO es 6.99\n"
          ]
        }
      ]
    },
    {
      "cell_type": "markdown",
      "source": [
        "##**Efecto de la temperatura en la solubilidad**"
      ],
      "metadata": {
        "id": "3jGr_wQM4ZP6"
      }
    },
    {
      "cell_type": "markdown",
      "source": [
        "**12.27 Una muestra de 3.20 g de una sal se disuelve en 9.10 g de agua para formar una disolución saturada a 25°C. ¿Cual es la solubilidad (en g de sal/100 g de H2O) de la sal?**"
      ],
      "metadata": {
        "id": "ZBiUmTNA4bls"
      }
    },
    {
      "cell_type": "code",
      "source": [
        "m_sal = 3.20\n",
        "m_agua = 9.10\n",
        "\n",
        "solu = (m_sal/m_agua)*100\n",
        "\n",
        "print(\"La solubilidad de la sal es \", round(solu, 2) , \"g de sal/100g de agua\")"
      ],
      "metadata": {
        "colab": {
          "base_uri": "https://localhost:8080/"
        },
        "id": "azkys5uR4dCk",
        "outputId": "a0b67f9e-40e1-4141-9a73-58c06d9ea3a2"
      },
      "execution_count": null,
      "outputs": [
        {
          "output_type": "stream",
          "name": "stdout",
          "text": [
            "La solubilidad de la sal es  35.16 g de sal/100g de agua\n"
          ]
        }
      ]
    }
  ]
}