{
  "cells": [
    {
      "cell_type": "markdown",
      "metadata": {
        "id": "view-in-github",
        "colab_type": "text"
      },
      "source": [
        "<a href=\"https://colab.research.google.com/github/AXLCA031/Quimica_UNMSM/blob/main/TRABAJO_SABADO.ipynb\" target=\"_parent\"><img src=\"https://colab.research.google.com/assets/colab-badge.svg\" alt=\"Open In Colab\"/></a>"
      ]
    },
    {
      "cell_type": "markdown",
      "metadata": {
        "id": "8wOmOr8M4IHM"
      },
      "source": [
        "$$\\Large \\textit{UNMSM | Química}$$\n",
        "\n",
        "---\n",
        "\n",
        "\n",
        "$$\\large \\textbf{Ka}$$\n",
        "\n",
        "_Profesor: Jesus Alvarado Huayhuaz_"
      ]
    },
    {
      "cell_type": "code",
      "execution_count": null,
      "metadata": {
        "colab": {
          "background_save": true,
          "base_uri": "https://localhost:8080/",
          "height": 383
        },
        "id": "_9slvcBstelE",
        "outputId": "737f23c6-b56c-4074-d640-61935211faf4"
      },
      "outputs": [
        {
          "name": "stdout",
          "output_type": "stream",
          "text": [
            "Debes ingresar los datos de la siguiente manera: reactivo 1 + reactivo 2 <-> cation + anion\n",
            "- Usa letras mayúsculas y minúsculas para los símbolos de los elementos, por ejemplo: H2O, CO2, CH4.\n",
            "- Usa números subíndices para indicar los coeficientes estequiométricos, por ejemplo: H2O, CO2, CH4.\n",
            "- Usa el signo + para separar los reactivos y los productos, por ejemplo: H2O + CO2 <-> H2CO3.\n",
            "- Usa el signo <-> para indicar la dirección de la reacción, por ejemplo: H2O + CO2 <-> H2CO3.\n",
            "- Usa espacios entre los signos + y <->, por ejemplo: H2O + CO2 <-> H2CO3.\n",
            "- No uses paréntesis ni corchetes, por ejemplo: NO escribas (H2O) + (CO2) <-> [H2CO3].\n"
          ]
        }
      ],
      "source": [
        "# Importar la librería sympy\n",
        "import sympy\n",
        "\n",
        "# Pedir al usuario que introduzca la ecuación química\n",
        "print(\"Debes ingresar los datos de la siguiente manera: reactivo 1 + reactivo 2 <-> cation + anion\")\n",
        "print(\"- Usa letras mayúsculas y minúsculas para los símbolos de los elementos, por ejemplo: H2O, CO2, CH4.\")\n",
        "print(\"- Usa números subíndices para indicar los coeficientes estequiométricos, por ejemplo: H2O, CO2, CH4.\")\n",
        "print(\"- Usa el signo + para separar los reactivos y los productos, por ejemplo: H2O + CO2 <-> H2CO3.\")\n",
        "print(\"- Usa el signo <-> para indicar la dirección de la reacción, por ejemplo: H2O + CO2 <-> H2CO3.\")\n",
        "print(\"- Usa espacios entre los signos + y <->, por ejemplo: H2O + CO2 <-> H2CO3.\")\n",
        "print(\"- No uses paréntesis ni corchetes, por ejemplo: NO escribas (H2O) + (CO2) <-> [H2CO3].\")\n",
        "\n",
        "ecuacion = input(\"Introduce la ecuación química del ácido y su disociación: \")\n",
        "\n",
        "# Especificar al usuario cómo debe ingresar los datos\n",
        "\n",
        "# Verificar que el valor sea una cadena válida\n",
        "try:\n",
        "    ecuacion = str(ecuacion)\n",
        "    if not ecuacion:\n",
        "        raise ValueError\n",
        "except ValueError:\n",
        "    print(\"Valor inválido. Debe ser una cadena no vacía.\")\n",
        "    exit()\n",
        "\n",
        "# Separar la ecuación en reactivos y productos\n",
        "reactivos, productos = ecuacion.split(\"<->\")\n",
        "\n",
        "# Separar los reactivos y los productos en sus componentes\n",
        "reactivos = reactivos.split(\"+\")\n",
        "productos = productos.split(\"+\")\n",
        "\n",
        "# Eliminar los espacios en blanco de los componentes\n",
        "reactivos = [r.strip() for r in reactivos]\n",
        "productos = [p.strip() for p in productos]\n",
        "\n",
        "# Asumir que el primer reactivo es el ácido y que el segundo producto es el anión\n",
        "acido = reactivos[0]\n",
        "anion = productos[1]\n",
        "\n",
        "# Asumir que el hidrógeno es el catión\n",
        "hidrogeno = productos[0]\n",
        "\n",
        "# Crear los símbolos para las fórmulas\n",
        "acido = sympy.Symbol(acido)\n",
        "anion = sympy.Symbol(anion)\n",
        "hidrogeno = sympy.Symbol(hidrogeno)\n",
        "\n",
        "# Crear la expresión del Ka\n",
        "expresion_Ka = (anion * hidrogeno) / acido\n",
        "\n",
        "# Mostrar la expresión del Ka con las fórmulas\n",
        "print(f\"El Ka se puede escribir como: Ka = {expresion_Ka}\")\n"
      ]
    }
  ],
  "metadata": {
    "colab": {
      "provenance": [],
      "include_colab_link": true
    },
    "kernelspec": {
      "display_name": "Python 3",
      "name": "python3"
    },
    "language_info": {
      "name": "python"
    }
  },
  "nbformat": 4,
  "nbformat_minor": 0
}